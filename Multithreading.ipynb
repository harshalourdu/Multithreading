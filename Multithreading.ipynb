{
 "cells": [
  {
   "cell_type": "markdown",
   "metadata": {},
   "source": [
    "Q1. What is multithreading in python? Why is it used? Name the module used to handle threads in python.\n",
    "\n",
    "\n",
    "Q2. Why threading module used? Write the use of the following functions\n",
    "( activeCount(\n",
    " currentThread(\n",
    " enumerate()\n",
    "\n",
    "\n",
    "Q3. Explain the following functions\n",
    "( run(\n",
    " start(\n",
    " join(\n",
    "' isAlive()\n",
    "\n",
    "\n",
    "Q4. Write a python program to create two threads. Thread one must print the list of squares and thread\n",
    "two must print the list of cubes.\n",
    "\n",
    "\n",
    "Q5. State advantages and disadvantages of multithreading.\n",
    "\n",
    "\n",
    "Q6. Explain deadlocks and race conditions."
   ]
  },
  {
   "cell_type": "markdown",
   "metadata": {},
   "source": [
    "# 1. \n",
    "\n",
    "Multithreading is a programming concept that allows multiple threads (smaller units of a process) to run concurrently within a single process. This enables a program to perform multiple operations at the same time. In Python, multithreading is often used to:\n",
    "\n",
    "Perform I/O-bound tasks (e.g., reading from files, network communication, database operations) concurrently, making the program more efficient.\n",
    "Improve responsiveness in applications (e.g., in GUI applications where the main thread should not be blocked by long-running tasks)."
   ]
  },
  {
   "cell_type": "code",
   "execution_count": 1,
   "metadata": {},
   "outputs": [
    {
     "name": "stdout",
     "output_type": "stream",
     "text": [
      "6\n",
      "<_MainThread(MainThread, started 16868)>\n",
      "<_MainThread(MainThread, started 16868)>\n",
      "<Thread(IOPub, started daemon 3568)>\n",
      "<Heartbeat(Heartbeat, started daemon 20864)>\n",
      "<ControlThread(Control, started daemon 24180)>\n",
      "<HistorySavingThread(IPythonHistorySavingThread, started 5068)>\n",
      "<ParentPollerWindows(Thread-1, started daemon 24976)>\n"
     ]
    },
    {
     "name": "stderr",
     "output_type": "stream",
     "text": [
      "C:\\Users\\adith\\AppData\\Local\\Temp\\ipykernel_16804\\1638626756.py:5: DeprecationWarning: activeCount() is deprecated, use active_count() instead\n",
      "  print(threading.activeCount())\n",
      "C:\\Users\\adith\\AppData\\Local\\Temp\\ipykernel_16804\\1638626756.py:10: DeprecationWarning: currentThread() is deprecated, use current_thread() instead\n",
      "  print(threading.currentThread())\n"
     ]
    }
   ],
   "source": [
    "# 2.\n",
    "\n",
    "# activeCount(): This function returns the number of Thread objects currently alive. It tells how many threads are still running in the program.\n",
    "import threading\n",
    "print(threading.activeCount())\n",
    "\n",
    "\n",
    "# currentThread(): This function returns the Thread object corresponding to the current thread. It allows access to the thread executing the current code.\n",
    "import threading\n",
    "print(threading.currentThread())\n",
    "\n",
    "\n",
    "# enumerate(): This function returns a list of all the currently active Thread objects. This can be used to check the threads that are alive at the moment.\n",
    "import threading\n",
    "threads = threading.enumerate()\n",
    "for thread in threads:\n",
    "    print(thread)\n",
    " "
   ]
  },
  {
   "cell_type": "code",
   "execution_count": 2,
   "metadata": {},
   "outputs": [
    {
     "name": "stdout",
     "output_type": "stream",
     "text": [
      "Thread is running!\n"
     ]
    }
   ],
   "source": [
    "# 3. \n",
    "\n",
    "# run(): This is the entry point for the thread. It is the method that contains the code that will be executed when a thread starts. In most cases, run() is overridden when creating a custom thread class by inheriting from threading.Thread.\n",
    "class MyThread(threading.Thread):\n",
    "    def run(self):\n",
    "        print(\"Thread is running!\")\n",
    "\n",
    "t = MyThread()\n",
    "t.start()  # Calls the run method\n"
   ]
  },
  {
   "cell_type": "markdown",
   "metadata": {},
   "source": [
    "start(): This method starts the thread by invoking its run() method. It must be called once before the thread executes its task. This method initiates the thread and runs the code inside run()."
   ]
  },
  {
   "cell_type": "markdown",
   "metadata": {},
   "source": [
    "join(): This method is used to wait for a thread to complete before the program continues. If you call join() on a thread, the program will wait until that thread finishes executing."
   ]
  },
  {
   "cell_type": "markdown",
   "metadata": {},
   "source": [
    "isAlive(): This method checks if a thread is still alive (i.e., still running). It returns True if the thread is alive and False if it has finished execution."
   ]
  },
  {
   "cell_type": "code",
   "execution_count": 6,
   "metadata": {},
   "outputs": [
    {
     "ename": "SyntaxError",
     "evalue": "invalid syntax (516590072.py, line 27)",
     "output_type": "error",
     "traceback": [
      "\u001b[1;36m  Cell \u001b[1;32mIn[6], line 27\u001b[1;36m\u001b[0m\n\u001b[1;33m    |\u001b[0m\n\u001b[1;37m    ^\u001b[0m\n\u001b[1;31mSyntaxError\u001b[0m\u001b[1;31m:\u001b[0m invalid syntax\n"
     ]
    }
   ],
   "source": [
    "# 4.\n",
    "\n",
    "import threading\n",
    "\n",
    "def print_squares():\n",
    "    squares = [i**2 for i in range(1, 6)]\n",
    "    print(f\"Squares: {squares}\")\n",
    "\n",
    "def print_cubes():\n",
    "    cubes = [i**3 for i in range(1, 6)]\n",
    "    print(f\"Cubes: {cubes}\")\n",
    "\n",
    "# Create two threads\n",
    "thread1 = threading.Thread(target=print_squares)\n",
    "thread2 = threading.Thread(target=print_cubes)\n",
    "\n",
    "# Start the threads\n",
    "thread1.start()\n",
    "thread2.start()\n",
    "\n",
    "# Wait for both threads to finish\n",
    "thread1.join()\n",
    "thread2.join()\n",
    "\n",
    "print(\"Both threads have finished executing.\")\n",
    "\n",
    "|"
   ]
  },
  {
   "cell_type": "markdown",
   "metadata": {},
   "source": [
    "# 6.\n",
    "\n",
    "# Advantages of Multithreading:\n",
    "\n",
    "Concurrency: Multithreading allows the program to run multiple tasks concurrently, improving efficiency for I/O-bound tasks.\n",
    "\n",
    "Improved Performance: For I/O-bound operations (like reading from a file or making network requests), multithreading can drastically improve performance.\n",
    "\n",
    "Better CPU Utilization: On multi-core processors, threads can run simultaneously on different cores, making full use of the CPU.\n",
    "\n",
    "Better Responsiveness: In applications like GUIs, multithreading can keep the interface responsive while performing background tasks.\n",
    "\n",
    "# Disadvantages of Multithreading:\n",
    "\n",
    "Complexity: Writing multithreaded code can be more complex, as it introduces the need for thread synchronization to avoid conflicts and race conditions.\n",
    "\n",
    "Thread Overhead: Threads themselves consume resources, and excessive use of threads can lead to significant overhead, especially if the program creates too many threads.\n",
    "\n",
    "Difficulty in Debugging: Bugs related to multithreading (such as deadlocks, race conditions) can be hard to reproduce and debug.\n",
    "\n",
    "Global Interpreter Lock (GIL): In CPython (the default Python implementation), the GIL prevents multiple threads from executing Python bytecodes simultaneously in a single process. This limits the effectiveness of multithreading for CPU-bound tasks."
   ]
  },
  {
   "cell_type": "code",
   "execution_count": null,
   "metadata": {},
   "outputs": [
    {
     "name": "stdout",
     "output_type": "stream",
     "text": [
      "Thread 1 acquired lock1Thread 2 acquired lock2\n",
      "\n"
     ]
    }
   ],
   "source": [
    "# 6.\n",
    "\n",
    "import threading\n",
    "\n",
    "def thread_1(lock1, lock2):\n",
    "    lock1.acquire()\n",
    "    print(\"Thread 1 acquired lock1\")\n",
    "    lock2.acquire()\n",
    "    print(\"Thread 1 acquired lock2\")\n",
    "\n",
    "def thread_2(lock1, lock2):\n",
    "    lock2.acquire()\n",
    "    print(\"Thread 2 acquired lock2\")\n",
    "    lock1.acquire()\n",
    "    print(\"Thread 2 acquired lock1\")\n",
    "\n",
    "lock1 = threading.Lock()\n",
    "lock2 = threading.Lock()\n",
    "\n",
    "t1 = threading.Thread(target=thread_1, args=(lock1, lock2))\n",
    "t2 = threading.Thread(target=thread_2, args=(lock1, lock2))\n",
    "\n",
    "t1.start()\n",
    "t2.start()\n",
    "\n",
    "t1.join()\n",
    "t2.join()\n"
   ]
  },
  {
   "cell_type": "code",
   "execution_count": null,
   "metadata": {},
   "outputs": [],
   "source": []
  }
 ],
 "metadata": {
  "kernelspec": {
   "display_name": "Python 3",
   "language": "python",
   "name": "python3"
  },
  "language_info": {
   "codemirror_mode": {
    "name": "ipython",
    "version": 3
   },
   "file_extension": ".py",
   "mimetype": "text/x-python",
   "name": "python",
   "nbconvert_exporter": "python",
   "pygments_lexer": "ipython3",
   "version": "3.11.9"
  }
 },
 "nbformat": 4,
 "nbformat_minor": 2
}
